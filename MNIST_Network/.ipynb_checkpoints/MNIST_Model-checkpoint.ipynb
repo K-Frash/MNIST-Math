{
 "cells": [
  {
   "cell_type": "markdown",
   "metadata": {},
   "source": [
    "# Imports"
   ]
  },
  {
   "cell_type": "code",
   "execution_count": 1,
   "metadata": {},
   "outputs": [
    {
     "name": "stderr",
     "output_type": "stream",
     "text": [
      "Using TensorFlow backend.\n"
     ]
    }
   ],
   "source": [
    "import os\n",
    "import numpy as np\n",
    "import tensorflow as tf\n",
    "import keras\n",
    "import matplotlib.pyplot as plt\n",
    "\n",
    "from numpy.random import seed\n",
    "from tensorflow import set_random_seed\n",
    "from time import strftime\n",
    "from PIL import Image\n",
    "from matplotlib import cm\n",
    "from tensorflow.compat.v1.saved_model import simple_save, load, tag_constants\n",
    "\n",
    "from sklearn import datasets\n",
    "from keras.datasets import mnist\n",
    "from matplotlib import pyplot\n",
    "\n",
    "## Seed for testing\n",
    "seed(888)\n",
    "set_random_seed(404)"
   ]
  },
  {
   "cell_type": "markdown",
   "metadata": {},
   "source": [
    "# Data Collection"
   ]
  },
  {
   "cell_type": "code",
   "execution_count": 2,
   "metadata": {},
   "outputs": [],
   "source": [
    "# load dataset\n",
    "(x_train_data, y_train_data), (x_test_data, y_test_data) = mnist.load_data()\n",
    "\n",
    "# Local Data Paths\n",
    "LOGGING_PATH = 'tensorboard_mnist_digit_logs/'\n",
    "\n",
    "# Global parameters\n",
    "VALIDATION_SIZE = 10000\n",
    "IM_WIDTH = x_train_data.shape[1]\n",
    "IM_HEIGHT = x_train_data.shape[2]\n",
    "IM_CHANNELS = 1\n",
    "MNIST_INPUT = IM_WIDTH * IM_HEIGHT * IM_CHANNELS\n",
    "NUM_CLASSES = 10\n",
    "\n",
    "# Network Run parameters\n",
    "LOAD_MODEL = True\n",
    "MODEL_PATH = 'Trained_MNIST_Model'"
   ]
  },
  {
   "cell_type": "code",
   "execution_count": 3,
   "metadata": {},
   "outputs": [
    {
     "data": {
      "image/png": "[encoded data removed]",
      "text/plain": [
       "<Figure size 432x288 with 9 Axes>"
      ]
     },
     "metadata": {
      "needs_background": "light"
     },
     "output_type": "display_data"
    },
    {
     "name": "stdout",
     "output_type": "stream",
     "text": [
      "Train: X=(60000, 784), y=(60000,)\n",
      "Test:  X=(10000, 784), y=(10000,)\n"
     ]
    }
   ],
   "source": [
    "# plot first few images\n",
    "for i in range(9):\n",
    "    # define subplot\n",
    "    pyplot.subplot(330 + 1 + i)\n",
    "    # plot raw pixel data\n",
    "    pyplot.imshow(x_train_data[i], cmap=pyplot.get_cmap('gray'))\n",
    "\n",
    "# show the figure\n",
    "pyplot.show()\n",
    "\n",
    "# Flatten our input images.\n",
    "x_train_data = x_train_data.reshape((x_train_data.shape[0], IM_WIDTH * IM_HEIGHT))\n",
    "x_test_data  = x_test_data.reshape((x_test_data.shape[0], IM_WIDTH * IM_HEIGHT))\n",
    "\n",
    "# summarize loaded dataset\n",
    "print('Train: X=%s, y=%s' % (x_train_data.shape, y_train_data.shape))\n",
    "print('Test:  X=%s, y=%s' % (x_test_data.shape, y_test_data.shape))"
   ]
  },
  {
   "cell_type": "markdown",
   "metadata": {},
   "source": [
    "# Data Preprocessing"
   ]
  },
  {
   "cell_type": "code",
   "execution_count": 4,
   "metadata": {},
   "outputs": [],
   "source": [
    "# Normalize our data\n",
    "x_train_data, x_test_data = x_train_data / 255.0 , x_test_data / 255.0"
   ]
  },
  {
   "cell_type": "code",
   "execution_count": 5,
   "metadata": {},
   "outputs": [],
   "source": [
    "# expand output shapes into one-hot format for testing and training labels\n",
    "y_train_data = np.eye(NUM_CLASSES)[y_train_data]\n",
    "y_test_data  = np.eye(NUM_CLASSES)[y_test_data]"
   ]
  },
  {
   "cell_type": "code",
   "execution_count": 6,
   "metadata": {},
   "outputs": [
    {
     "name": "stdout",
     "output_type": "stream",
     "text": [
      "(50000, 784) (10000, 784)\n"
     ]
    }
   ],
   "source": [
    "# Generate Validation sets\n",
    "x_validate = x_train_data[:VALIDATION_SIZE]\n",
    "y_validate = y_train_data[:VALIDATION_SIZE]\n",
    "\n",
    "# Update our training sets\n",
    "x_train_data = x_train_data[VALIDATION_SIZE:]\n",
    "y_train_data = y_train_data[VALIDATION_SIZE:]\n",
    "\n",
    "print(x_train_data.shape, x_validate.shape)"
   ]
  },
  {
   "cell_type": "markdown",
   "metadata": {},
   "source": [
    "# Tensorflow Graph"
   ]
  },
  {
   "cell_type": "code",
   "execution_count": 7,
   "metadata": {},
   "outputs": [],
   "source": [
    "# Raw inputs of our feature vectors\n",
    "X = tf.placeholder(tf.float32, shape=[None, MNIST_INPUT], name='X') #MNIST digits are stored in a flattened 28 x 28 x 1 image vector\n",
    "Y = tf.placeholder(tf.float32, shape=[None, NUM_CLASSES], name='labels') #MNIST digits follow 10 classes, 0 to 9"
   ]
  },
  {
   "cell_type": "code",
   "execution_count": 8,
   "metadata": {},
   "outputs": [],
   "source": [
    "# Hyperparameters\n",
    "num_epochs = 50\n",
    "lr = 0.0001\n",
    "\n",
    "# Neural Network Architecture\n",
    "num_hidden1 = 512\n",
    "num_hidden2 = 64"
   ]
  },
  {
   "cell_type": "code",
   "execution_count": 9,
   "metadata": {},
   "outputs": [],
   "source": [
    "def setup_layer(input, weight_dim, bias_dim, name):\n",
    "    \n",
    "    with tf.name_scope(name):\n",
    "        initial_w = tf.truncated_normal(shape=weight_dim, stddev=0.1, seed=42)\n",
    "        w = tf.Variable(initial_value=initial_w, name='W')\n",
    "\n",
    "        initial_b = tf.constant(value=0.0, shape=bias_dim)\n",
    "        b = tf.Variable(initial_value=initial_b, name='B')\n",
    "\n",
    "        layer_in = tf.matmul(input, w) + b\n",
    "        \n",
    "        if name=='out':\n",
    "            layer_out = tf.nn.softmax(layer_in)\n",
    "        else:\n",
    "            layer_out = tf.nn.relu(layer_in)\n",
    "        \n",
    "        tf.summary.histogram('weights', w)\n",
    "        tf.summary.histogram('biases', b)\n",
    "        \n",
    "        return layer_out\n"
   ]
  },
  {
   "cell_type": "code",
   "execution_count": 10,
   "metadata": {},
   "outputs": [],
   "source": [
    "layer_1 = setup_layer(X, weight_dim=[MNIST_INPUT, num_hidden1], \n",
    "                      bias_dim=[num_hidden1], name='layer_1')\n",
    "\n",
    "layer_drop = tf.nn.dropout(layer_1, rate=0.2, name='dropout_layer')\n",
    "\n",
    "layer_2 = setup_layer(layer_drop, weight_dim=[num_hidden1, num_hidden2], \n",
    "                      bias_dim=[num_hidden2], name='layer_2')\n",
    "\n",
    "output = setup_layer(layer_2, weight_dim=[num_hidden2, NUM_CLASSES], \n",
    "                      bias_dim=[NUM_CLASSES], name='out')\n",
    "\n",
    "model_name = f'{num_hidden1}-DO-{num_hidden2} LR{lr} E{num_epochs}'"
   ]
  },
  {
   "cell_type": "markdown",
   "metadata": {},
   "source": [
    "# Setup Tensorboard"
   ]
  },
  {
   "cell_type": "code",
   "execution_count": 12,
   "metadata": {},
   "outputs": [],
   "source": [
    "# Folder for Tensorboard\n",
    "\n",
    "if(not LOAD_MODEL):\n",
    "    folder_name = f'{model_name} at {strftime(\"%H:%M\")}'\n",
    "    folder_name = folder_name.replace('.', '')\n",
    "    folder_name = folder_name.replace(':', '')\n",
    "    directory = os.path.join(LOGGING_PATH, folder_name)\n",
    "\n",
    "    try:\n",
    "        os.makedirs(directory)\n",
    "    except OSError as exception:\n",
    "        print(exception.strerror)\n",
    "    else:\n",
    "        print('Successfully created directories!')"
   ]
  },
  {
   "cell_type": "markdown",
   "metadata": {},
   "source": [
    "# Loss, Optimization and Metrics"
   ]
  },
  {
   "cell_type": "code",
   "execution_count": 13,
   "metadata": {},
   "outputs": [],
   "source": [
    "# We are doing batch training, need to aggregate the means\n",
    "with tf.name_scope('loss_calc'):\n",
    "    loss = tf.reduce_mean(tf.nn.softmax_cross_entropy_with_logits_v2(labels=Y, logits=output))\n",
    "\n",
    "# Optimization definition\n",
    "with tf.name_scope('optimizer'):\n",
    "    optimizer = tf.train.AdamOptimizer(lr)\n",
    "    train_step = optimizer.minimize(loss)"
   ]
  },
  {
   "cell_type": "code",
   "execution_count": 14,
   "metadata": {},
   "outputs": [],
   "source": [
    "# Accuracy Metric\n",
    "with tf.name_scope('accuracy_calc'):\n",
    "    model_pred = tf.argmax(output, axis=1, name=\"prediction\")\n",
    "    correct_pred = tf.equal(model_pred, tf.argmax(Y, axis=1))\n",
    "    accuracy = tf.reduce_mean(tf.cast(correct_pred, tf.float32))\n",
    "    \n",
    "with tf.name_scope('performance'):\n",
    "    tf.summary.scalar('accuracy', accuracy)\n",
    "    tf.summary.scalar('cost', loss)"
   ]
  },
  {
   "cell_type": "code",
   "execution_count": 15,
   "metadata": {},
   "outputs": [],
   "source": [
    "# Observe the input images in Tensorboard\n",
    "with tf.name_scope('show_image'):\n",
    "    x_image = tf.reshape(X, [-1, 28, 28, 1])\n",
    "    tf.summary.image('image_input', x_image, max_outputs=4)"
   ]
  },
  {
   "cell_type": "markdown",
   "metadata": {},
   "source": [
    "# Run Model Session"
   ]
  },
  {
   "cell_type": "code",
   "execution_count": 16,
   "metadata": {},
   "outputs": [
    {
     "name": "stdout",
     "output_type": "stream",
     "text": [
      "WARNING:tensorflow:From <ipython-input-16-f7818363a750>:9: load (from tensorflow.python.saved_model.loader_impl) is deprecated and will be removed in a future version.\n",
      "Instructions for updating:\n",
      "This function will only be available through the v1 compatibility library as tf.compat.v1.saved_model.loader.load or tf.compat.v1.saved_model.load. There will be a new function for importing SavedModels in Tensorflow 2.0.\n",
      "WARNING:tensorflow:From C:\\Users\\kfras\\Anaconda3\\lib\\site-packages\\tensorflow\\python\\training\\saver.py:1276: checkpoint_exists (from tensorflow.python.training.checkpoint_management) is deprecated and will be removed in a future version.\n",
      "Instructions for updating:\n",
      "Use standard file APIs to check for files with this prefix.\n",
      "INFO:tensorflow:Restoring parameters from Trained_MNIST_Model\\variables\\variables\n",
      "Loading in an existing Network within Trained_MNIST_Model\n"
     ]
    }
   ],
   "source": [
    "# Determine if we want to genereate a new model or load an existing model\n",
    "\n",
    "if(not LOAD_MODEL):\n",
    "    sess = tf.Session()\n",
    "    print(\"Training a New Network!\")\n",
    "else:\n",
    "    graph = tf.Graph()\n",
    "    sess = tf.Session(graph=graph)\n",
    "    \n",
    "    # Load the model for Serving\n",
    "    load(sess=sess, tags=[tag_constants.SERVING], export_dir=MODEL_PATH)\n",
    "    \n",
    "    # Get inputs and outputs of the model\n",
    "    X = graph.get_tensor_by_name('X:0')\n",
    "    Y_pred = graph.get_tensor_by_name('accuracy_calc/prediction:0')\n",
    "    \n",
    "    print(f\"Loading in an existing Network and Environment variables within {MODEL_PATH}\")"
   ]
  },
  {
   "cell_type": "code",
   "execution_count": 17,
   "metadata": {},
   "outputs": [],
   "source": [
    "# FileWriter and merge summaries\n",
    "merged_summary = tf.summary.merge_all()\n",
    "\n",
    "train_writer = tf.summary.FileWriter(directory + '/train')\n",
    "train_writer.add_graph(sess.graph)\n",
    "\n",
    "validation_writer = tf.summary.FileWriter(directory + '/validation')"
   ]
  },
  {
   "cell_type": "code",
   "execution_count": 17,
   "metadata": {},
   "outputs": [],
   "source": [
    "if(not LOAD_MODEL):\n",
    "    # Initialize all the variables\n",
    "    init = tf.global_variables_initializer()\n",
    "    sess.run(init)"
   ]
  },
  {
   "cell_type": "code",
   "execution_count": 18,
   "metadata": {},
   "outputs": [],
   "source": [
    "# We are batch training, divide up the training data\n",
    "size_of_batch = 1000\n",
    "\n",
    "num_examples = y_train_data.shape[0]\n",
    "nr_iterations = int(num_examples/size_of_batch)\n",
    "\n",
    "index_in_epoch = 0"
   ]
  },
  {
   "cell_type": "code",
   "execution_count": 19,
   "metadata": {},
   "outputs": [],
   "source": [
    "def next_batch(batch_size, data, labels):\n",
    "    \n",
    "    global num_examples\n",
    "    global index_in_epoch\n",
    "    \n",
    "    start = index_in_epoch\n",
    "    index_in_epoch += batch_size\n",
    "    \n",
    "    if index_in_epoch > num_examples:\n",
    "        start = 0\n",
    "        index_in_epoch = batch_size\n",
    "    \n",
    "    end = index_in_epoch\n",
    "    \n",
    "    return data[start:end], labels[start:end]"
   ]
  },
  {
   "cell_type": "code",
   "execution_count": 20,
   "metadata": {},
   "outputs": [
    {
     "name": "stdout",
     "output_type": "stream",
     "text": [
      "Epoch 0 \t| Training Accuracy = 0.6129999756813049\n",
      "Epoch 1 \t| Training Accuracy = 0.7490000128746033\n",
      "Epoch 2 \t| Training Accuracy = 0.8349999785423279\n",
      "Epoch 3 \t| Training Accuracy = 0.8420000076293945\n",
      "Epoch 4 \t| Training Accuracy = 0.8519999980926514\n",
      "Epoch 5 \t| Training Accuracy = 0.8679999709129333\n",
      "Epoch 6 \t| Training Accuracy = 0.8679999709129333\n",
      "Epoch 7 \t| Training Accuracy = 0.8730000257492065\n",
      "Epoch 8 \t| Training Accuracy = 0.871999979019165\n",
      "Epoch 9 \t| Training Accuracy = 0.8709999918937683\n",
      "Epoch 10 \t| Training Accuracy = 0.8759999871253967\n",
      "Epoch 11 \t| Training Accuracy = 0.8790000081062317\n",
      "Epoch 12 \t| Training Accuracy = 0.9300000071525574\n",
      "Epoch 13 \t| Training Accuracy = 0.9490000009536743\n",
      "Epoch 14 \t| Training Accuracy = 0.9610000252723694\n",
      "Epoch 15 \t| Training Accuracy = 0.9629999995231628\n",
      "Epoch 16 \t| Training Accuracy = 0.9589999914169312\n",
      "Epoch 17 \t| Training Accuracy = 0.9620000123977661\n",
      "Epoch 18 \t| Training Accuracy = 0.9639999866485596\n",
      "Epoch 19 \t| Training Accuracy = 0.9599999785423279\n",
      "Epoch 20 \t| Training Accuracy = 0.9639999866485596\n",
      "Epoch 21 \t| Training Accuracy = 0.9700000286102295\n",
      "Epoch 22 \t| Training Accuracy = 0.9679999947547913\n",
      "Epoch 23 \t| Training Accuracy = 0.9679999947547913\n",
      "Epoch 24 \t| Training Accuracy = 0.9629999995231628\n",
      "Epoch 25 \t| Training Accuracy = 0.9639999866485596\n",
      "Epoch 26 \t| Training Accuracy = 0.9679999947547913\n",
      "Epoch 27 \t| Training Accuracy = 0.9679999947547913\n",
      "Epoch 28 \t| Training Accuracy = 0.9710000157356262\n",
      "Epoch 29 \t| Training Accuracy = 0.9710000157356262\n",
      "Epoch 30 \t| Training Accuracy = 0.972000002861023\n",
      "Epoch 31 \t| Training Accuracy = 0.972000002861023\n",
      "Epoch 32 \t| Training Accuracy = 0.9739999771118164\n",
      "Epoch 33 \t| Training Accuracy = 0.972000002861023\n",
      "Epoch 34 \t| Training Accuracy = 0.9750000238418579\n",
      "Epoch 35 \t| Training Accuracy = 0.972000002861023\n",
      "Epoch 36 \t| Training Accuracy = 0.9729999899864197\n",
      "Epoch 37 \t| Training Accuracy = 0.9750000238418579\n",
      "Epoch 38 \t| Training Accuracy = 0.972000002861023\n",
      "Epoch 39 \t| Training Accuracy = 0.972000002861023\n",
      "Epoch 40 \t| Training Accuracy = 0.9729999899864197\n",
      "Epoch 41 \t| Training Accuracy = 0.972000002861023\n",
      "Epoch 42 \t| Training Accuracy = 0.9779999852180481\n",
      "Epoch 43 \t| Training Accuracy = 0.972000002861023\n",
      "Epoch 44 \t| Training Accuracy = 0.9760000109672546\n",
      "Epoch 45 \t| Training Accuracy = 0.9760000109672546\n",
      "Epoch 46 \t| Training Accuracy = 0.9760000109672546\n",
      "Epoch 47 \t| Training Accuracy = 0.9779999852180481\n",
      "Epoch 48 \t| Training Accuracy = 0.9769999980926514\n",
      "Epoch 49 \t| Training Accuracy = 0.9779999852180481\n",
      "Done training!\n"
     ]
    }
   ],
   "source": [
    "# Training Loop\n",
    "\n",
    "def train():\n",
    "    for epoch in range(num_epochs):\n",
    "        for i in range(nr_iterations):\n",
    "        \n",
    "            batch_x, batch_y = next_batch(batch_size=size_of_batch, data=x_train_data, labels=y_train_data)\n",
    "        \n",
    "            feed_dictionary = {X:batch_x, Y:batch_y}\n",
    "        \n",
    "            sess.run(train_step, feed_dict=feed_dictionary)\n",
    "        \n",
    "        # Aggregate epoch summary and log these changes to the filewriter\n",
    "        s, batch_accuracy = sess.run(fetches=[merged_summary, accuracy], feed_dict=feed_dictionary)\n",
    "    \n",
    "        train_writer.add_summary(s, epoch)\n",
    "    \n",
    "        print(f'Epoch {epoch} \\t| Training Accuracy = {batch_accuracy}')\n",
    "    \n",
    "        # Epoch Validation \n",
    "        summary = sess.run(fetches=merged_summary, feed_dict={X:x_validate, Y:y_validate})\n",
    "        validation_writer.add_summary(summary, epoch)\n",
    "\n",
    "    print('Done training!')\n",
    "\n",
    "if(not LOAD_MODEL):\n",
    "    train()"
   ]
  },
  {
   "cell_type": "code",
   "execution_count": 21,
   "metadata": {},
   "outputs": [
    {
     "name": "stdout",
     "output_type": "stream",
     "text": [
      "Accuracy on test set is 95.79%\n"
     ]
    }
   ],
   "source": [
    "test_accuracy = sess.run(fetches=accuracy, feed_dict={X:x_test_data, Y:y_test_data})\n",
    "print(f'Accuracy on test set is {test_accuracy:0.2%}')"
   ]
  },
  {
   "cell_type": "markdown",
   "metadata": {},
   "source": [
    "# Save Model"
   ]
  },
  {
   "cell_type": "code",
   "execution_count": 22,
   "metadata": {},
   "outputs": [
    {
     "name": "stdout",
     "output_type": "stream",
     "text": [
      "WARNING:tensorflow:From <ipython-input-22-d780398d833c>:6: simple_save (from tensorflow.python.saved_model.simple_save) is deprecated and will be removed in a future version.\n",
      "Instructions for updating:\n",
      "This function will only be available through the v1 compatibility library as tf.compat.v1.saved_model.simple_save.\n",
      "WARNING:tensorflow:From C:\\Users\\kfras\\Anaconda3\\lib\\site-packages\\tensorflow\\python\\saved_model\\signature_def_utils_impl.py:201: build_tensor_info (from tensorflow.python.saved_model.utils_impl) is deprecated and will be removed in a future version.\n",
      "Instructions for updating:\n",
      "This function will only be available through the v1 compatibility library as tf.compat.v1.saved_model.utils.build_tensor_info or tf.compat.v1.saved_model.build_tensor_info.\n",
      "INFO:tensorflow:Assets added to graph.\n",
      "INFO:tensorflow:No assets to write.\n",
      "INFO:tensorflow:SavedModel written to: Trained_MNIST_Model\\saved_model.pb\n"
     ]
    }
   ],
   "source": [
    "if(not LOAD_MODEL):\n",
    "    inputs  = {'X': X}\n",
    "    outputs = {'accuracy_calc/prediction' : model_pred}\n",
    "\n",
    "    # Save our model for serving\n",
    "    simple_save(sess, MODEL_PATH, inputs, outputs)"
   ]
  },
  {
   "cell_type": "markdown",
   "metadata": {},
   "source": [
    "# Manual Model Interaction"
   ]
  },
  {
   "cell_type": "code",
   "execution_count": 23,
   "metadata": {},
   "outputs": [
    {
     "data": {
      "image/png": "[encoded data removed]",
      "text/plain": [
       "<Figure size 1080x360 with 10 Axes>"
      ]
     },
     "metadata": {
      "needs_background": "light"
     },
     "output_type": "display_data"
    }
   ],
   "source": [
    "## Read in an image from all categories\n",
    "\n",
    "# Find the first MNIST image from each category\n",
    "digits_found = [True]*10\n",
    "x_samples = [[]]*10\n",
    "y_samples = [[]]*10\n",
    "\n",
    "for i, j in zip(x_test_data, y_test_data):\n",
    "    mnist_num = np.where(j==1)[0][0]\n",
    "    if(digits_found[mnist_num]):\n",
    "        x_samples[mnist_num] = i.reshape(28,28)\n",
    "        y_samples[mnist_num] = j\n",
    "        digits_found[mnist_num] = False\n",
    "    \n",
    "    # If we have found one of every mnist digit we break\n",
    "    if(digits_found.count(True) == 0): break\n",
    "\n",
    "pil_arr   = np.asarray(x_samples)\n",
    "pil_class = np.asarray(y_samples)\n",
    "\n",
    "# plot the digits\n",
    "plt.figure(figsize=[15, 5])\n",
    "for i, j in zip(pil_arr, pil_class):\n",
    "    digit = np.where(j == 1)[0][0]\n",
    "    \n",
    "    plt.subplot(1, 10, digit+1)\n",
    "    prediction = sess.run(fetches=tf.argmax(output, axis=1), feed_dict={X:[i.ravel()]})\n",
    "    \n",
    "    plt.title(f'Digit: {digit}')\n",
    "    plt.xlabel(f'Prediction {prediction}')\n",
    "    plt.xlim(0, i.shape[0])\n",
    "    plt.ylim(i.shape[1], 0)\n",
    "    im = Image.fromarray(np.uint8(cm.gist_earth(i)*255))\n",
    "    plt.imshow(im)\n",
    "\n",
    "plt.show()\n"
   ]
  },
  {
   "cell_type": "markdown",
   "metadata": {},
   "source": [
    "# Rest Model For the Next Run"
   ]
  },
  {
   "cell_type": "code",
   "execution_count": 24,
   "metadata": {},
   "outputs": [],
   "source": [
    "train_writer.close()\n",
    "validation_writer.close()\n",
    "sess.close()\n",
    "tf.reset_default_graph()"
   ]
  }
 ],
 "metadata": {
  "kernelspec": {
   "display_name": "Python 3",
   "language": "python",
   "name": "python3"
  },
  "language_info": {
   "codemirror_mode": {
    "name": "ipython",
    "version": 3
   },
   "file_extension": ".py",
   "mimetype": "text/x-python",
   "name": "python",
   "nbconvert_exporter": "python",
   "pygments_lexer": "ipython3",
   "version": "3.7.3"
  }
 },
 "nbformat": 4,
 "nbformat_minor": 2
}
